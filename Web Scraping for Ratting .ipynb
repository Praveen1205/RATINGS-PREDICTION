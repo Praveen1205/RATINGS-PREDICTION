{
 "cells": [
  {
   "cell_type": "code",
   "execution_count": 1,
   "id": "7c7a1e62",
   "metadata": {},
   "outputs": [],
   "source": [
    "import selenium\n",
    "import requests\n",
    "import bs4\n",
    "import time\n",
    "import pandas as pd\n",
    "from selenium import webdriver\n",
    "from selenium.webdriver.common.by import By\n",
    "from selenium.webdriver.common.action_chains import ActionChains\n",
    "from selenium.webdriver.common.keys import Keys\n",
    "import warnings\n",
    "warnings.filterwarnings('ignore')\n",
    "from selenium.common.exceptions import StaleElementReferenceException, NoSuchElementException\n",
    "from matplotlib import pyplot as plt\n",
    "import matplotlib.image as mpimg\n",
    "import numpy as np\n",
    "import urllib\n",
    "import os"
   ]
  },
  {
   "cell_type": "markdown",
   "id": "5f869d66",
   "metadata": {},
   "source": [
    "### Headphones"
   ]
  },
  {
   "cell_type": "code",
   "execution_count": 12,
   "id": "2b2d6a46",
   "metadata": {},
   "outputs": [],
   "source": [
    "driver = webdriver.Chrome(r\"C:\\Users\\prave\\Downloads\\Compressed\\chromedriver.exe\")\n",
    "driver.maximize_window()"
   ]
  },
  {
   "cell_type": "code",
   "execution_count": 13,
   "id": "79369fce",
   "metadata": {},
   "outputs": [],
   "source": [
    "driver.get(\"https://www.amazon.in/\")"
   ]
  },
  {
   "cell_type": "code",
   "execution_count": 14,
   "id": "d9efcbe9",
   "metadata": {},
   "outputs": [
    {
     "name": "stdout",
     "output_type": "stream",
     "text": [
      "Enter the product you want to search : Headphone\n"
     ]
    }
   ],
   "source": [
    "User_input = input('Enter the product you want to search : ')"
   ]
  },
  {
   "cell_type": "code",
   "execution_count": 15,
   "id": "564a8397",
   "metadata": {},
   "outputs": [],
   "source": [
    "search_items=driver.find_element(By.ID,'twotabsearchtextbox')\n",
    "search_items.send_keys(User_input)"
   ]
  },
  {
   "cell_type": "code",
   "execution_count": 16,
   "id": "d23b3fe7",
   "metadata": {},
   "outputs": [],
   "source": [
    "search = driver.find_element(By.XPATH,\"/html/body/div[1]/header/div/div[1]/div[2]/div/form/div[3]/div/span/input\")\n",
    "search.click()"
   ]
  },
  {
   "cell_type": "code",
   "execution_count": 17,
   "id": "f0b810bc",
   "metadata": {},
   "outputs": [],
   "source": [
    "product_urls = []\n",
    "\n",
    "\n",
    "for page in range(1,3):\n",
    "\n",
    "    url=driver.find_elements(By.XPATH,'//a[@class = \"a-link-normal s-underline-text s-underline-link-text s-link-style a-text-normal\"]')       \n",
    "\n",
    "    for i in url:\n",
    "\n",
    "        product_urls.append(i.get_attribute(\"href\"))\n",
    "\n",
    "    nexts_button=driver.find_element(By.XPATH,'//a[@class=\"s-pagination-item s-pagination-next s-pagination-button s-pagination-separator\"]')     \n",
    "    nexts_button.click()\n",
    "    \n",
    "    time.sleep(8)"
   ]
  },
  {
   "cell_type": "code",
   "execution_count": 18,
   "id": "af9ef9c3",
   "metadata": {},
   "outputs": [
    {
     "data": {
      "text/plain": [
       "113"
      ]
     },
     "execution_count": 18,
     "metadata": {},
     "output_type": "execute_result"
    }
   ],
   "source": [
    "len(product_urls)"
   ]
  },
  {
   "cell_type": "code",
   "execution_count": 19,
   "id": "b56327c9",
   "metadata": {
    "collapsed": true
   },
   "outputs": [
    {
     "ename": "ElementNotInteractableException",
     "evalue": "Message: element not interactable\n  (Session info: chrome=106.0.5249.119)\nStacktrace:\nBacktrace:\n\tOrdinal0 [0x00ABDF13+2219795]\n\tOrdinal0 [0x00A52841+1779777]\n\tOrdinal0 [0x00964100+803072]\n\tOrdinal0 [0x00993FB6+999350]\n\tOrdinal0 [0x00989B76+957302]\n\tOrdinal0 [0x009AE7FC+1107964]\n\tOrdinal0 [0x009894B4+955572]\n\tOrdinal0 [0x009AEA14+1108500]\n\tOrdinal0 [0x009BF192+1175954]\n\tOrdinal0 [0x009AE616+1107478]\n\tOrdinal0 [0x00987F89+950153]\n\tOrdinal0 [0x00988F56+954198]\n\tGetHandleVerifier [0x00DB2CB2+3040210]\n\tGetHandleVerifier [0x00DA2BB4+2974420]\n\tGetHandleVerifier [0x00B56A0A+565546]\n\tGetHandleVerifier [0x00B55680+560544]\n\tOrdinal0 [0x00A59A5C+1808988]\n\tOrdinal0 [0x00A5E3A8+1827752]\n\tOrdinal0 [0x00A5E495+1827989]\n\tOrdinal0 [0x00A680A4+1867940]\n\tBaseThreadInitThunk [0x761F7BA9+25]\n\tRtlInitializeExceptionChain [0x7730BB3B+107]\n\tRtlClearBits [0x7730BABF+191]\n",
     "output_type": "error",
     "traceback": [
      "\u001b[1;31m---------------------------------------------------------------------------\u001b[0m",
      "\u001b[1;31mElementNotInteractableException\u001b[0m           Traceback (most recent call last)",
      "Input \u001b[1;32mIn [19]\u001b[0m, in \u001b[0;36m<cell line: 5>\u001b[1;34m()\u001b[0m\n\u001b[0;32m     15\u001b[0m \u001b[38;5;66;03m#Clicking to see all reviews\u001b[39;00m\n\u001b[0;32m     16\u001b[0m \u001b[38;5;28;01mtry\u001b[39;00m:\n\u001b[1;32m---> 17\u001b[0m     \u001b[43mdriver\u001b[49m\u001b[38;5;241;43m.\u001b[39;49m\u001b[43mfind_element\u001b[49m\u001b[43m(\u001b[49m\u001b[43mBy\u001b[49m\u001b[38;5;241;43m.\u001b[39;49m\u001b[43mXPATH\u001b[49m\u001b[43m,\u001b[49m\u001b[38;5;124;43m\"\u001b[39;49m\u001b[38;5;124;43m//a[@class=\u001b[39;49m\u001b[38;5;124;43m'\u001b[39;49m\u001b[38;5;124;43ma-link-emphasis a-text-bold\u001b[39;49m\u001b[38;5;124;43m'\u001b[39;49m\u001b[38;5;124;43m]\u001b[39;49m\u001b[38;5;124;43m\"\u001b[39;49m\u001b[43m)\u001b[49m\u001b[38;5;241;43m.\u001b[39;49m\u001b[43mclick\u001b[49m\u001b[43m(\u001b[49m\u001b[43m)\u001b[49m\n\u001b[0;32m     18\u001b[0m \u001b[38;5;28;01mexcept\u001b[39;00m NoSuchElementException:\n\u001b[0;32m     19\u001b[0m     \u001b[38;5;28;01mpass\u001b[39;00m\n",
      "File \u001b[1;32m~\\anaconda3\\lib\\site-packages\\selenium\\webdriver\\remote\\webelement.py:88\u001b[0m, in \u001b[0;36mWebElement.click\u001b[1;34m(self)\u001b[0m\n\u001b[0;32m     86\u001b[0m \u001b[38;5;28;01mdef\u001b[39;00m \u001b[38;5;21mclick\u001b[39m(\u001b[38;5;28mself\u001b[39m) \u001b[38;5;241m-\u001b[39m\u001b[38;5;241m>\u001b[39m \u001b[38;5;28;01mNone\u001b[39;00m:\n\u001b[0;32m     87\u001b[0m     \u001b[38;5;124;03m\"\"\"Clicks the element.\"\"\"\u001b[39;00m\n\u001b[1;32m---> 88\u001b[0m     \u001b[38;5;28;43mself\u001b[39;49m\u001b[38;5;241;43m.\u001b[39;49m\u001b[43m_execute\u001b[49m\u001b[43m(\u001b[49m\u001b[43mCommand\u001b[49m\u001b[38;5;241;43m.\u001b[39;49m\u001b[43mCLICK_ELEMENT\u001b[49m\u001b[43m)\u001b[49m\n",
      "File \u001b[1;32m~\\anaconda3\\lib\\site-packages\\selenium\\webdriver\\remote\\webelement.py:396\u001b[0m, in \u001b[0;36mWebElement._execute\u001b[1;34m(self, command, params)\u001b[0m\n\u001b[0;32m    394\u001b[0m     params \u001b[38;5;241m=\u001b[39m {}\n\u001b[0;32m    395\u001b[0m params[\u001b[38;5;124m'\u001b[39m\u001b[38;5;124mid\u001b[39m\u001b[38;5;124m'\u001b[39m] \u001b[38;5;241m=\u001b[39m \u001b[38;5;28mself\u001b[39m\u001b[38;5;241m.\u001b[39m_id\n\u001b[1;32m--> 396\u001b[0m \u001b[38;5;28;01mreturn\u001b[39;00m \u001b[38;5;28;43mself\u001b[39;49m\u001b[38;5;241;43m.\u001b[39;49m\u001b[43m_parent\u001b[49m\u001b[38;5;241;43m.\u001b[39;49m\u001b[43mexecute\u001b[49m\u001b[43m(\u001b[49m\u001b[43mcommand\u001b[49m\u001b[43m,\u001b[49m\u001b[43m \u001b[49m\u001b[43mparams\u001b[49m\u001b[43m)\u001b[49m\n",
      "File \u001b[1;32m~\\anaconda3\\lib\\site-packages\\selenium\\webdriver\\remote\\webdriver.py:435\u001b[0m, in \u001b[0;36mWebDriver.execute\u001b[1;34m(self, driver_command, params)\u001b[0m\n\u001b[0;32m    433\u001b[0m response \u001b[38;5;241m=\u001b[39m \u001b[38;5;28mself\u001b[39m\u001b[38;5;241m.\u001b[39mcommand_executor\u001b[38;5;241m.\u001b[39mexecute(driver_command, params)\n\u001b[0;32m    434\u001b[0m \u001b[38;5;28;01mif\u001b[39;00m response:\n\u001b[1;32m--> 435\u001b[0m     \u001b[38;5;28;43mself\u001b[39;49m\u001b[38;5;241;43m.\u001b[39;49m\u001b[43merror_handler\u001b[49m\u001b[38;5;241;43m.\u001b[39;49m\u001b[43mcheck_response\u001b[49m\u001b[43m(\u001b[49m\u001b[43mresponse\u001b[49m\u001b[43m)\u001b[49m\n\u001b[0;32m    436\u001b[0m     response[\u001b[38;5;124m'\u001b[39m\u001b[38;5;124mvalue\u001b[39m\u001b[38;5;124m'\u001b[39m] \u001b[38;5;241m=\u001b[39m \u001b[38;5;28mself\u001b[39m\u001b[38;5;241m.\u001b[39m_unwrap_value(\n\u001b[0;32m    437\u001b[0m         response\u001b[38;5;241m.\u001b[39mget(\u001b[38;5;124m'\u001b[39m\u001b[38;5;124mvalue\u001b[39m\u001b[38;5;124m'\u001b[39m, \u001b[38;5;28;01mNone\u001b[39;00m))\n\u001b[0;32m    438\u001b[0m     \u001b[38;5;28;01mreturn\u001b[39;00m response\n",
      "File \u001b[1;32m~\\anaconda3\\lib\\site-packages\\selenium\\webdriver\\remote\\errorhandler.py:247\u001b[0m, in \u001b[0;36mErrorHandler.check_response\u001b[1;34m(self, response)\u001b[0m\n\u001b[0;32m    245\u001b[0m         alert_text \u001b[38;5;241m=\u001b[39m value[\u001b[38;5;124m'\u001b[39m\u001b[38;5;124malert\u001b[39m\u001b[38;5;124m'\u001b[39m]\u001b[38;5;241m.\u001b[39mget(\u001b[38;5;124m'\u001b[39m\u001b[38;5;124mtext\u001b[39m\u001b[38;5;124m'\u001b[39m)\n\u001b[0;32m    246\u001b[0m     \u001b[38;5;28;01mraise\u001b[39;00m exception_class(message, screen, stacktrace, alert_text)  \u001b[38;5;66;03m# type: ignore[call-arg]  # mypy is not smart enough here\u001b[39;00m\n\u001b[1;32m--> 247\u001b[0m \u001b[38;5;28;01mraise\u001b[39;00m exception_class(message, screen, stacktrace)\n",
      "\u001b[1;31mElementNotInteractableException\u001b[0m: Message: element not interactable\n  (Session info: chrome=106.0.5249.119)\nStacktrace:\nBacktrace:\n\tOrdinal0 [0x00ABDF13+2219795]\n\tOrdinal0 [0x00A52841+1779777]\n\tOrdinal0 [0x00964100+803072]\n\tOrdinal0 [0x00993FB6+999350]\n\tOrdinal0 [0x00989B76+957302]\n\tOrdinal0 [0x009AE7FC+1107964]\n\tOrdinal0 [0x009894B4+955572]\n\tOrdinal0 [0x009AEA14+1108500]\n\tOrdinal0 [0x009BF192+1175954]\n\tOrdinal0 [0x009AE616+1107478]\n\tOrdinal0 [0x00987F89+950153]\n\tOrdinal0 [0x00988F56+954198]\n\tGetHandleVerifier [0x00DB2CB2+3040210]\n\tGetHandleVerifier [0x00DA2BB4+2974420]\n\tGetHandleVerifier [0x00B56A0A+565546]\n\tGetHandleVerifier [0x00B55680+560544]\n\tOrdinal0 [0x00A59A5C+1808988]\n\tOrdinal0 [0x00A5E3A8+1827752]\n\tOrdinal0 [0x00A5E495+1827989]\n\tOrdinal0 [0x00A680A4+1867940]\n\tBaseThreadInitThunk [0x761F7BA9+25]\n\tRtlInitializeExceptionChain [0x7730BB3B+107]\n\tRtlClearBits [0x7730BABF+191]\n"
     ]
    }
   ],
   "source": [
    "Ratings=[]\n",
    "Review=[]\n",
    "\n",
    "    \n",
    "for i in product_urls:\n",
    "    driver.get(i)\n",
    "    \n",
    "    # Clicking the rating\n",
    "    try:\n",
    "        driver.find_element(By.XPATH,\"//a[@class='a-link-normal']\").click()\n",
    "    except NoSuchElementException:\n",
    "        print(\"No rating\")\n",
    "        pass\n",
    "    \n",
    "    #Clicking to see all reviews\n",
    "    try:\n",
    "        driver.find_element(By.XPATH,\"//a[@class='a-link-emphasis a-text-bold']\").click()\n",
    "    except NoSuchElementException:\n",
    "        pass\n",
    "    \n",
    "    #Scrapping the details\n",
    "    \n",
    "    for page in range(1,51):\n",
    "        try:\n",
    "            Reviews=driver.find_elements(By.XPATH,\"//div[@class='a-row a-spacing-small review-data']/span/span\")\n",
    "            for r in Reviews:\n",
    "                Review.append(r.text.replace('\\n',''))\n",
    "        except NoSuchElementException:\n",
    "            Review.append(\"Not Available\")\n",
    "        try:\n",
    "            Rating=driver.find_elements(By.XPATH,\"//div[@class='a-section celwidget']/div[2]/a[1]\")\n",
    "            for i in Rating:\n",
    "                rating=i.get_attribute('title')\n",
    "                Ratings.append(rating[:3])\n",
    "        except NoSuchElementException:\n",
    "            Ratings.append(\"Not available\")      \n",
    "        \n",
    "        #Looping for going to next page automatically\n",
    "        try:\n",
    "            next_page=driver.find_element(By.XPATH,\"//div[@id='cm_cr-pagination_bar']/ul/li[2]/a\")\n",
    "            if next_page.text=='Next Page':\n",
    "                next_page.click()\n",
    "                time.sleep(2)\n",
    "        except NoSuchElementException:\n",
    "            pass"
   ]
  },
  {
   "cell_type": "code",
   "execution_count": 20,
   "id": "99d8f5f0",
   "metadata": {},
   "outputs": [
    {
     "name": "stdout",
     "output_type": "stream",
     "text": [
      "18750 19000\n"
     ]
    }
   ],
   "source": [
    "print(len(Review),len(Ratings))"
   ]
  },
  {
   "cell_type": "code",
   "execution_count": 21,
   "id": "f3226c4e",
   "metadata": {},
   "outputs": [
    {
     "data": {
      "text/html": [
       "<div>\n",
       "<style scoped>\n",
       "    .dataframe tbody tr th:only-of-type {\n",
       "        vertical-align: middle;\n",
       "    }\n",
       "\n",
       "    .dataframe tbody tr th {\n",
       "        vertical-align: top;\n",
       "    }\n",
       "\n",
       "    .dataframe thead th {\n",
       "        text-align: right;\n",
       "    }\n",
       "</style>\n",
       "<table border=\"1\" class=\"dataframe\">\n",
       "  <thead>\n",
       "    <tr style=\"text-align: right;\">\n",
       "      <th></th>\n",
       "      <th>Product_Review</th>\n",
       "      <th>Ratings</th>\n",
       "    </tr>\n",
       "  </thead>\n",
       "  <tbody>\n",
       "    <tr>\n",
       "      <th>0</th>\n",
       "      <td>The product is good but the build quality is a...</td>\n",
       "      <td>4.0 o</td>\n",
       "    </tr>\n",
       "    <tr>\n",
       "      <th>1</th>\n",
       "      <td>love how its lightweight ..it doesnt feels lik...</td>\n",
       "      <td>4.0 o</td>\n",
       "    </tr>\n",
       "    <tr>\n",
       "      <th>2</th>\n",
       "      <td>It is very tight on ears.</td>\n",
       "      <td>4.0 o</td>\n",
       "    </tr>\n",
       "    <tr>\n",
       "      <th>3</th>\n",
       "      <td>Overall performance is really nice 👍. I recomm...</td>\n",
       "      <td>4.0 o</td>\n",
       "    </tr>\n",
       "    <tr>\n",
       "      <th>4</th>\n",
       "      <td>This head phone working well.bluetooth connect...</td>\n",
       "      <td>4.0 o</td>\n",
       "    </tr>\n",
       "    <tr>\n",
       "      <th>...</th>\n",
       "      <td>...</td>\n",
       "      <td>...</td>\n",
       "    </tr>\n",
       "    <tr>\n",
       "      <th>18745</th>\n",
       "      <td>The sound quality is too good , you can hear e...</td>\n",
       "      <td>4.0 o</td>\n",
       "    </tr>\n",
       "    <tr>\n",
       "      <th>18746</th>\n",
       "      <td>I have bought this thing on 24 july this thing...</td>\n",
       "      <td>4.0 o</td>\n",
       "    </tr>\n",
       "    <tr>\n",
       "      <th>18747</th>\n",
       "      <td>Good product</td>\n",
       "      <td>4.0 o</td>\n",
       "    </tr>\n",
       "    <tr>\n",
       "      <th>18748</th>\n",
       "      <td>If you're looking for a headphone that you wou...</td>\n",
       "      <td>2.0 o</td>\n",
       "    </tr>\n",
       "    <tr>\n",
       "      <th>18749</th>\n",
       "      <td>Value for money</td>\n",
       "      <td>4.0 o</td>\n",
       "    </tr>\n",
       "  </tbody>\n",
       "</table>\n",
       "<p>18750 rows × 2 columns</p>\n",
       "</div>"
      ],
      "text/plain": [
       "                                          Product_Review Ratings\n",
       "0      The product is good but the build quality is a...   4.0 o\n",
       "1      love how its lightweight ..it doesnt feels lik...   4.0 o\n",
       "2                              It is very tight on ears.   4.0 o\n",
       "3      Overall performance is really nice 👍. I recomm...   4.0 o\n",
       "4      This head phone working well.bluetooth connect...   4.0 o\n",
       "...                                                  ...     ...\n",
       "18745  The sound quality is too good , you can hear e...   4.0 o\n",
       "18746  I have bought this thing on 24 july this thing...   4.0 o\n",
       "18747                                       Good product   4.0 o\n",
       "18748  If you're looking for a headphone that you wou...   2.0 o\n",
       "18749                                    Value for money   4.0 o\n",
       "\n",
       "[18750 rows x 2 columns]"
      ]
     },
     "execution_count": 21,
     "metadata": {},
     "output_type": "execute_result"
    }
   ],
   "source": [
    "Headphones=pd.DataFrame({'Product_Review':Review[:18750],'Ratings':Ratings[:18750]})\n",
    "Headphones"
   ]
  },
  {
   "cell_type": "markdown",
   "id": "02700d0b",
   "metadata": {},
   "source": [
    "### SmartPhone"
   ]
  },
  {
   "cell_type": "code",
   "execution_count": 22,
   "id": "cf022a62",
   "metadata": {},
   "outputs": [],
   "source": [
    "driver = webdriver.Chrome(r\"C:\\Users\\prave\\Downloads\\Compressed\\chromedriver.exe\")\n",
    "driver.maximize_window()"
   ]
  },
  {
   "cell_type": "code",
   "execution_count": 23,
   "id": "a35292cf",
   "metadata": {},
   "outputs": [],
   "source": [
    "driver.get(\"https://www.amazon.in/\")"
   ]
  },
  {
   "cell_type": "code",
   "execution_count": 24,
   "id": "fc6c9d33",
   "metadata": {},
   "outputs": [
    {
     "name": "stdout",
     "output_type": "stream",
     "text": [
      "Enter the product you want to search : Mobiles\n"
     ]
    }
   ],
   "source": [
    "User_input = input('Enter the product you want to search : ')\n",
    "search_items=driver.find_element(By.ID,'twotabsearchtextbox')\n",
    "search_items.send_keys(User_input)"
   ]
  },
  {
   "cell_type": "code",
   "execution_count": 25,
   "id": "5cc5931c",
   "metadata": {},
   "outputs": [],
   "source": [
    "search = driver.find_element(By.XPATH,\"/html/body/div[1]/header/div/div[1]/div[2]/div/form/div[3]/div/span/input\")\n",
    "search.click()"
   ]
  },
  {
   "cell_type": "code",
   "execution_count": 26,
   "id": "45a78327",
   "metadata": {},
   "outputs": [],
   "source": [
    "product_urls = []\n",
    "\n",
    "\n",
    "for page in range(1,3):\n",
    "\n",
    "    url=driver.find_elements(By.XPATH,'//a[@class = \"a-link-normal s-underline-text s-underline-link-text s-link-style a-text-normal\"]')       \n",
    "\n",
    "    for i in url:\n",
    "\n",
    "        product_urls.append(i.get_attribute(\"href\"))\n",
    "\n",
    "    nexts_button=driver.find_element(By.XPATH,'//a[@class=\"s-pagination-item s-pagination-next s-pagination-button s-pagination-separator\"]')     \n",
    "    nexts_button.click()\n",
    "    \n",
    "    time.sleep(8)"
   ]
  },
  {
   "cell_type": "code",
   "execution_count": 27,
   "id": "5c0701e9",
   "metadata": {},
   "outputs": [
    {
     "data": {
      "text/plain": [
       "48"
      ]
     },
     "execution_count": 27,
     "metadata": {},
     "output_type": "execute_result"
    }
   ],
   "source": [
    "len(product_urls)"
   ]
  },
  {
   "cell_type": "code",
   "execution_count": 28,
   "id": "a07cd07e",
   "metadata": {},
   "outputs": [],
   "source": [
    "Ratings_Phone=[]\n",
    "Review_Phone=[]\n",
    "\n",
    "    \n",
    "for i in product_urls:\n",
    "    driver.get(i)\n",
    "    \n",
    "    # Clicking the rating\n",
    "    try:\n",
    "        driver.find_element(By.XPATH,\"//a[@class='a-popover-trigger a-declarative']\").click()\n",
    "    except NoSuchElementException:\n",
    "        print(\"No rating\")\n",
    "        pass\n",
    "    \n",
    "    #Clicking to see all reviews\n",
    "    try:\n",
    "        driver.find_element(By.XPATH,\"//a[@class='a-link-emphasis a-text-bold']\").click()\n",
    "    except NoSuchElementException:\n",
    "        pass\n",
    "    \n",
    "    #Scrapping the details\n",
    "    Start_page=1\n",
    "    End_page=50\n",
    "    for page in range(Start_page,End_page+1):\n",
    "        try:\n",
    "            Reviews=driver.find_elements(By.XPATH,\"//div[@class='a-row a-spacing-small review-data']/span/span\")\n",
    "            for r in Reviews:\n",
    "                Review_Phone.append(r.text.replace('\\n',''))\n",
    "        except NoSuchElementException:\n",
    "            Review_Phone.append(\"Not Available\")\n",
    "        try:\n",
    "            Rating=driver.find_elements(By.XPATH,\"//div[@class='a-section celwidget']/div[2]/a[1]\")\n",
    "            for i in Rating:\n",
    "                rating=i.get_attribute('title')\n",
    "                Ratings_Phone.append(rating[:3])\n",
    "        except NoSuchElementException:\n",
    "            Ratings_Phone.append(\"Not available\")      \n",
    "        \n",
    "        #Looping for going to next page automatically\n",
    "        try:\n",
    "            next_page=driver.find_element(By.XPATH,\"//div[@id='cm_cr-pagination_bar']/ul/li[2]/a\")\n",
    "            if next_page.text=='Next Page':\n",
    "                next_page.click()\n",
    "                time.sleep(2)\n",
    "        except NoSuchElementException:\n",
    "            pass"
   ]
  },
  {
   "cell_type": "code",
   "execution_count": 29,
   "id": "acf9a1c9",
   "metadata": {},
   "outputs": [
    {
     "name": "stdout",
     "output_type": "stream",
     "text": [
      "24000 24000\n"
     ]
    }
   ],
   "source": [
    "print(len(Review_Phone),len(Ratings_Phone))"
   ]
  },
  {
   "cell_type": "code",
   "execution_count": 31,
   "id": "07b9abbe",
   "metadata": {},
   "outputs": [
    {
     "data": {
      "text/html": [
       "<div>\n",
       "<style scoped>\n",
       "    .dataframe tbody tr th:only-of-type {\n",
       "        vertical-align: middle;\n",
       "    }\n",
       "\n",
       "    .dataframe tbody tr th {\n",
       "        vertical-align: top;\n",
       "    }\n",
       "\n",
       "    .dataframe thead th {\n",
       "        text-align: right;\n",
       "    }\n",
       "</style>\n",
       "<table border=\"1\" class=\"dataframe\">\n",
       "  <thead>\n",
       "    <tr style=\"text-align: right;\">\n",
       "      <th></th>\n",
       "      <th>Product_Review</th>\n",
       "      <th>Ratings</th>\n",
       "    </tr>\n",
       "  </thead>\n",
       "  <tbody>\n",
       "    <tr>\n",
       "      <th>0</th>\n",
       "      <td>Camera : Great. No words for it's outstanding ...</td>\n",
       "      <td>4.0</td>\n",
       "    </tr>\n",
       "    <tr>\n",
       "      <th>1</th>\n",
       "      <td>This is a very good budget phone from Samsung ...</td>\n",
       "      <td>4.0</td>\n",
       "    </tr>\n",
       "    <tr>\n",
       "      <th>2</th>\n",
       "      <td>Screen (5/5)Camera (3.8/5)Battery (4.5/5)RAM m...</td>\n",
       "      <td>4.0</td>\n",
       "    </tr>\n",
       "    <tr>\n",
       "      <th>3</th>\n",
       "      <td>I have always liked black, this time by mistak...</td>\n",
       "      <td>4.0</td>\n",
       "    </tr>\n",
       "    <tr>\n",
       "      <th>4</th>\n",
       "      <td>IF YOU TALK ABOUT LIKE ... THEN I SAY ... BATT...</td>\n",
       "      <td>4.0</td>\n",
       "    </tr>\n",
       "    <tr>\n",
       "      <th>...</th>\n",
       "      <td>...</td>\n",
       "      <td>...</td>\n",
       "    </tr>\n",
       "    <tr>\n",
       "      <th>19995</th>\n",
       "      <td>Been using the phone for a while now and it's ...</td>\n",
       "      <td>5.0</td>\n",
       "    </tr>\n",
       "    <tr>\n",
       "      <th>19996</th>\n",
       "      <td>Camera should be improved. Otherwise phone is ...</td>\n",
       "      <td>4.0</td>\n",
       "    </tr>\n",
       "    <tr>\n",
       "      <th>19997</th>\n",
       "      <td>But RAM plus not available in 4gb varient</td>\n",
       "      <td>4.0</td>\n",
       "    </tr>\n",
       "    <tr>\n",
       "      <th>19998</th>\n",
       "      <td>Thank you Amazon ☺️Product is good 👍Dilivery B...</td>\n",
       "      <td>4.0</td>\n",
       "    </tr>\n",
       "    <tr>\n",
       "      <th>19999</th>\n",
       "      <td>Bought it for 10k.Maybe my best purchase after...</td>\n",
       "      <td>4.0</td>\n",
       "    </tr>\n",
       "  </tbody>\n",
       "</table>\n",
       "<p>20000 rows × 2 columns</p>\n",
       "</div>"
      ],
      "text/plain": [
       "                                          Product_Review Ratings\n",
       "0      Camera : Great. No words for it's outstanding ...     4.0\n",
       "1      This is a very good budget phone from Samsung ...     4.0\n",
       "2      Screen (5/5)Camera (3.8/5)Battery (4.5/5)RAM m...     4.0\n",
       "3      I have always liked black, this time by mistak...     4.0\n",
       "4      IF YOU TALK ABOUT LIKE ... THEN I SAY ... BATT...     4.0\n",
       "...                                                  ...     ...\n",
       "19995  Been using the phone for a while now and it's ...     5.0\n",
       "19996  Camera should be improved. Otherwise phone is ...     4.0\n",
       "19997          But RAM plus not available in 4gb varient     4.0\n",
       "19998  Thank you Amazon ☺️Product is good 👍Dilivery B...     4.0\n",
       "19999  Bought it for 10k.Maybe my best purchase after...     4.0\n",
       "\n",
       "[20000 rows x 2 columns]"
      ]
     },
     "execution_count": 31,
     "metadata": {},
     "output_type": "execute_result"
    }
   ],
   "source": [
    "Phones=pd.DataFrame({'Product_Review':Review_Phone[:20000],'Ratings':Ratings_Phone[:20000]})\n",
    "Phones"
   ]
  },
  {
   "cell_type": "code",
   "execution_count": 33,
   "id": "10736ec1",
   "metadata": {},
   "outputs": [],
   "source": [
    "Phones.to_csv('Smartphone.csv')"
   ]
  },
  {
   "cell_type": "markdown",
   "id": "ca35289a",
   "metadata": {},
   "source": [
    "### Bag"
   ]
  },
  {
   "cell_type": "code",
   "execution_count": 25,
   "id": "d2644f6a",
   "metadata": {},
   "outputs": [],
   "source": [
    "driver = webdriver.Chrome(r\"C:\\Users\\prave\\Downloads\\Compressed\\chromedriver.exe\")\n",
    "driver.maximize_window()\n",
    "driver.get(\"https://www.amazon.in/\")"
   ]
  },
  {
   "cell_type": "code",
   "execution_count": 26,
   "id": "0eb13c34",
   "metadata": {},
   "outputs": [
    {
     "name": "stdout",
     "output_type": "stream",
     "text": [
      "Enter the product you want to search : Bags\n"
     ]
    }
   ],
   "source": [
    "User_input = input('Enter the product you want to search : ')\n",
    "search_items=driver.find_element(By.ID,'twotabsearchtextbox')\n",
    "search_items.send_keys(User_input)\n",
    "search = driver.find_element(By.XPATH,\"/html/body/div[1]/header/div/div[1]/div[2]/div/form/div[3]/div/span/input\")\n",
    "search.click()"
   ]
  },
  {
   "cell_type": "code",
   "execution_count": 27,
   "id": "772f6e5b",
   "metadata": {},
   "outputs": [],
   "source": [
    "product_urls = []\n",
    "\n",
    "\n",
    "for page in range(1,3):\n",
    "\n",
    "    url=driver.find_elements(By.XPATH,'//a[@class = \"a-link-normal s-underline-text s-underline-link-text s-link-style a-text-normal\"]')       \n",
    "\n",
    "    for i in url:\n",
    "\n",
    "        product_urls.append(i.get_attribute(\"href\"))\n",
    "\n",
    "    nexts_button=driver.find_element(By.XPATH,'//a[@class=\"s-pagination-item s-pagination-next s-pagination-button s-pagination-separator\"]')     \n",
    "    nexts_button.click()\n",
    "    \n",
    "    time.sleep(8)"
   ]
  },
  {
   "cell_type": "code",
   "execution_count": 28,
   "id": "10699bf7",
   "metadata": {},
   "outputs": [
    {
     "data": {
      "text/plain": [
       "342"
      ]
     },
     "execution_count": 28,
     "metadata": {},
     "output_type": "execute_result"
    }
   ],
   "source": [
    "len(product_urls)"
   ]
  },
  {
   "cell_type": "code",
   "execution_count": 33,
   "id": "d52585c0",
   "metadata": {
    "collapsed": true
   },
   "outputs": [
    {
     "ename": "StaleElementReferenceException",
     "evalue": "Message: stale element reference: element is not attached to the page document\n  (Session info: chrome=106.0.5249.119)\nStacktrace:\nBacktrace:\n\tOrdinal0 [0x0035DF13+2219795]\n\tOrdinal0 [0x002F2841+1779777]\n\tOrdinal0 [0x0020423D+803389]\n\tOrdinal0 [0x00206D04+814340]\n\tOrdinal0 [0x00206BC2+814018]\n\tOrdinal0 [0x0020755F+816479]\n\tOrdinal0 [0x0025FC1B+1178651]\n\tOrdinal0 [0x0024E7FC+1107964]\n\tOrdinal0 [0x0025F192+1175954]\n\tOrdinal0 [0x0024E616+1107478]\n\tOrdinal0 [0x00227F89+950153]\n\tOrdinal0 [0x00228F56+954198]\n\tGetHandleVerifier [0x00652CB2+3040210]\n\tGetHandleVerifier [0x00642BB4+2974420]\n\tGetHandleVerifier [0x003F6A0A+565546]\n\tGetHandleVerifier [0x003F5680+560544]\n\tOrdinal0 [0x002F9A5C+1808988]\n\tOrdinal0 [0x002FE3A8+1827752]\n\tOrdinal0 [0x002FE495+1827989]\n\tOrdinal0 [0x003080A4+1867940]\n\tBaseThreadInitThunk [0x761F7BA9+25]\n\tRtlInitializeExceptionChain [0x7730BB3B+107]\n\tRtlClearBits [0x7730BABF+191]\n",
     "output_type": "error",
     "traceback": [
      "\u001b[1;31m---------------------------------------------------------------------------\u001b[0m",
      "\u001b[1;31mStaleElementReferenceException\u001b[0m            Traceback (most recent call last)",
      "Input \u001b[1;32mIn [33]\u001b[0m, in \u001b[0;36m<cell line: 5>\u001b[1;34m()\u001b[0m\n\u001b[0;32m     32\u001b[0m     Rating\u001b[38;5;241m=\u001b[39mdriver\u001b[38;5;241m.\u001b[39mfind_elements(By\u001b[38;5;241m.\u001b[39mXPATH,\u001b[38;5;124m\"\u001b[39m\u001b[38;5;124m//div[@class=\u001b[39m\u001b[38;5;124m'\u001b[39m\u001b[38;5;124ma-section celwidget\u001b[39m\u001b[38;5;124m'\u001b[39m\u001b[38;5;124m]/div[2]/a[1]\u001b[39m\u001b[38;5;124m\"\u001b[39m)\n\u001b[0;32m     33\u001b[0m     \u001b[38;5;28;01mfor\u001b[39;00m i \u001b[38;5;129;01min\u001b[39;00m Rating:\n\u001b[1;32m---> 34\u001b[0m         rating\u001b[38;5;241m=\u001b[39m\u001b[43mi\u001b[49m\u001b[38;5;241;43m.\u001b[39;49m\u001b[43mget_attribute\u001b[49m\u001b[43m(\u001b[49m\u001b[38;5;124;43m'\u001b[39;49m\u001b[38;5;124;43mtitle\u001b[39;49m\u001b[38;5;124;43m'\u001b[39;49m\u001b[43m)\u001b[49m\n\u001b[0;32m     35\u001b[0m         Ratings_Bag\u001b[38;5;241m.\u001b[39mappend(rating[:\u001b[38;5;241m5\u001b[39m])\n\u001b[0;32m     36\u001b[0m \u001b[38;5;28;01mexcept\u001b[39;00m NoSuchElementException:\n",
      "File \u001b[1;32m~\\anaconda3\\lib\\site-packages\\selenium\\webdriver\\remote\\webelement.py:172\u001b[0m, in \u001b[0;36mWebElement.get_attribute\u001b[1;34m(self, name)\u001b[0m\n\u001b[0;32m    170\u001b[0m \u001b[38;5;28;01mif\u001b[39;00m getAttribute_js \u001b[38;5;129;01mis\u001b[39;00m \u001b[38;5;28;01mNone\u001b[39;00m:\n\u001b[0;32m    171\u001b[0m     _load_js()\n\u001b[1;32m--> 172\u001b[0m attribute_value \u001b[38;5;241m=\u001b[39m \u001b[38;5;28;43mself\u001b[39;49m\u001b[38;5;241;43m.\u001b[39;49m\u001b[43mparent\u001b[49m\u001b[38;5;241;43m.\u001b[39;49m\u001b[43mexecute_script\u001b[49m\u001b[43m(\u001b[49m\n\u001b[0;32m    173\u001b[0m \u001b[43m    \u001b[49m\u001b[38;5;124;43m\"\u001b[39;49m\u001b[38;5;124;43mreturn (\u001b[39;49m\u001b[38;5;132;43;01m%s\u001b[39;49;00m\u001b[38;5;124;43m).apply(null, arguments);\u001b[39;49m\u001b[38;5;124;43m\"\u001b[39;49m\u001b[43m \u001b[49m\u001b[38;5;241;43m%\u001b[39;49m\u001b[43m \u001b[49m\u001b[43mgetAttribute_js\u001b[49m\u001b[43m,\u001b[49m\n\u001b[0;32m    174\u001b[0m \u001b[43m    \u001b[49m\u001b[38;5;28;43mself\u001b[39;49m\u001b[43m,\u001b[49m\u001b[43m \u001b[49m\u001b[43mname\u001b[49m\u001b[43m)\u001b[49m\n\u001b[0;32m    175\u001b[0m \u001b[38;5;28;01mreturn\u001b[39;00m attribute_value\n",
      "File \u001b[1;32m~\\anaconda3\\lib\\site-packages\\selenium\\webdriver\\remote\\webdriver.py:493\u001b[0m, in \u001b[0;36mWebDriver.execute_script\u001b[1;34m(self, script, *args)\u001b[0m\n\u001b[0;32m    490\u001b[0m converted_args \u001b[38;5;241m=\u001b[39m \u001b[38;5;28mlist\u001b[39m(args)\n\u001b[0;32m    491\u001b[0m command \u001b[38;5;241m=\u001b[39m Command\u001b[38;5;241m.\u001b[39mW3C_EXECUTE_SCRIPT\n\u001b[1;32m--> 493\u001b[0m \u001b[38;5;28;01mreturn\u001b[39;00m \u001b[38;5;28;43mself\u001b[39;49m\u001b[38;5;241;43m.\u001b[39;49m\u001b[43mexecute\u001b[49m\u001b[43m(\u001b[49m\u001b[43mcommand\u001b[49m\u001b[43m,\u001b[49m\u001b[43m \u001b[49m\u001b[43m{\u001b[49m\n\u001b[0;32m    494\u001b[0m \u001b[43m    \u001b[49m\u001b[38;5;124;43m'\u001b[39;49m\u001b[38;5;124;43mscript\u001b[39;49m\u001b[38;5;124;43m'\u001b[39;49m\u001b[43m:\u001b[49m\u001b[43m \u001b[49m\u001b[43mscript\u001b[49m\u001b[43m,\u001b[49m\n\u001b[0;32m    495\u001b[0m \u001b[43m    \u001b[49m\u001b[38;5;124;43m'\u001b[39;49m\u001b[38;5;124;43margs\u001b[39;49m\u001b[38;5;124;43m'\u001b[39;49m\u001b[43m:\u001b[49m\u001b[43m \u001b[49m\u001b[43mconverted_args\u001b[49m\u001b[43m}\u001b[49m\u001b[43m)\u001b[49m[\u001b[38;5;124m'\u001b[39m\u001b[38;5;124mvalue\u001b[39m\u001b[38;5;124m'\u001b[39m]\n",
      "File \u001b[1;32m~\\anaconda3\\lib\\site-packages\\selenium\\webdriver\\remote\\webdriver.py:435\u001b[0m, in \u001b[0;36mWebDriver.execute\u001b[1;34m(self, driver_command, params)\u001b[0m\n\u001b[0;32m    433\u001b[0m response \u001b[38;5;241m=\u001b[39m \u001b[38;5;28mself\u001b[39m\u001b[38;5;241m.\u001b[39mcommand_executor\u001b[38;5;241m.\u001b[39mexecute(driver_command, params)\n\u001b[0;32m    434\u001b[0m \u001b[38;5;28;01mif\u001b[39;00m response:\n\u001b[1;32m--> 435\u001b[0m     \u001b[38;5;28;43mself\u001b[39;49m\u001b[38;5;241;43m.\u001b[39;49m\u001b[43merror_handler\u001b[49m\u001b[38;5;241;43m.\u001b[39;49m\u001b[43mcheck_response\u001b[49m\u001b[43m(\u001b[49m\u001b[43mresponse\u001b[49m\u001b[43m)\u001b[49m\n\u001b[0;32m    436\u001b[0m     response[\u001b[38;5;124m'\u001b[39m\u001b[38;5;124mvalue\u001b[39m\u001b[38;5;124m'\u001b[39m] \u001b[38;5;241m=\u001b[39m \u001b[38;5;28mself\u001b[39m\u001b[38;5;241m.\u001b[39m_unwrap_value(\n\u001b[0;32m    437\u001b[0m         response\u001b[38;5;241m.\u001b[39mget(\u001b[38;5;124m'\u001b[39m\u001b[38;5;124mvalue\u001b[39m\u001b[38;5;124m'\u001b[39m, \u001b[38;5;28;01mNone\u001b[39;00m))\n\u001b[0;32m    438\u001b[0m     \u001b[38;5;28;01mreturn\u001b[39;00m response\n",
      "File \u001b[1;32m~\\anaconda3\\lib\\site-packages\\selenium\\webdriver\\remote\\errorhandler.py:247\u001b[0m, in \u001b[0;36mErrorHandler.check_response\u001b[1;34m(self, response)\u001b[0m\n\u001b[0;32m    245\u001b[0m         alert_text \u001b[38;5;241m=\u001b[39m value[\u001b[38;5;124m'\u001b[39m\u001b[38;5;124malert\u001b[39m\u001b[38;5;124m'\u001b[39m]\u001b[38;5;241m.\u001b[39mget(\u001b[38;5;124m'\u001b[39m\u001b[38;5;124mtext\u001b[39m\u001b[38;5;124m'\u001b[39m)\n\u001b[0;32m    246\u001b[0m     \u001b[38;5;28;01mraise\u001b[39;00m exception_class(message, screen, stacktrace, alert_text)  \u001b[38;5;66;03m# type: ignore[call-arg]  # mypy is not smart enough here\u001b[39;00m\n\u001b[1;32m--> 247\u001b[0m \u001b[38;5;28;01mraise\u001b[39;00m exception_class(message, screen, stacktrace)\n",
      "\u001b[1;31mStaleElementReferenceException\u001b[0m: Message: stale element reference: element is not attached to the page document\n  (Session info: chrome=106.0.5249.119)\nStacktrace:\nBacktrace:\n\tOrdinal0 [0x0035DF13+2219795]\n\tOrdinal0 [0x002F2841+1779777]\n\tOrdinal0 [0x0020423D+803389]\n\tOrdinal0 [0x00206D04+814340]\n\tOrdinal0 [0x00206BC2+814018]\n\tOrdinal0 [0x0020755F+816479]\n\tOrdinal0 [0x0025FC1B+1178651]\n\tOrdinal0 [0x0024E7FC+1107964]\n\tOrdinal0 [0x0025F192+1175954]\n\tOrdinal0 [0x0024E616+1107478]\n\tOrdinal0 [0x00227F89+950153]\n\tOrdinal0 [0x00228F56+954198]\n\tGetHandleVerifier [0x00652CB2+3040210]\n\tGetHandleVerifier [0x00642BB4+2974420]\n\tGetHandleVerifier [0x003F6A0A+565546]\n\tGetHandleVerifier [0x003F5680+560544]\n\tOrdinal0 [0x002F9A5C+1808988]\n\tOrdinal0 [0x002FE3A8+1827752]\n\tOrdinal0 [0x002FE495+1827989]\n\tOrdinal0 [0x003080A4+1867940]\n\tBaseThreadInitThunk [0x761F7BA9+25]\n\tRtlInitializeExceptionChain [0x7730BB3B+107]\n\tRtlClearBits [0x7730BABF+191]\n"
     ]
    }
   ],
   "source": [
    "Ratings_Bag=[]\n",
    "Review_Bag=[]\n",
    "\n",
    "    \n",
    "for i in product_urls:\n",
    "    driver.get(i)\n",
    "    \n",
    "    # Clicking the rating\n",
    "    try:\n",
    "        driver.find_element(By.XPATH,\"//a[@class='a-popover-trigger a-declarative']\").click()\n",
    "    except NoSuchElementException:\n",
    "        print(\"No rating\")\n",
    "        pass\n",
    "    \n",
    "    #Clicking to see all reviews\n",
    "    try:\n",
    "        driver.find_element(By.XPATH,\"//a[@class='a-link-emphasis a-text-bold']\").click()\n",
    "    except NoSuchElementException:\n",
    "        pass\n",
    "    \n",
    "    #Scrapping the details\n",
    "    Start_page=1\n",
    "    End_page=len(product_urls)\n",
    "    for page in range(Start_page,len(product_urls)+1):\n",
    "        try:\n",
    "            Reviews=driver.find_elements(By.XPATH,\"//div[@class='a-row a-spacing-small review-data']/span/span\")\n",
    "            for r in Reviews:\n",
    "                Review_Bag.append(r.text.replace('\\n',''))\n",
    "        except NoSuchElementException:\n",
    "            Review_Bag.append(\"Not Available\")\n",
    "        try:\n",
    "            Rating=driver.find_elements(By.XPATH,\"//div[@class='a-section celwidget']/div[2]/a[1]\")\n",
    "            for i in Rating:\n",
    "                rating=i.get_attribute('title')\n",
    "                Ratings_Bag.append(rating[:3])\n",
    "        except NoSuchElementException:\n",
    "            Ratings_Bag.append(\"Not available\")      \n",
    "        \n",
    "        #Looping for going to next page automatically\n",
    "        try:\n",
    "            next_page=driver.find_element(By.XPATH,\"//div[@id='cm_cr-pagination_bar']/ul/li[2]/a\")\n",
    "            if next_page.text=='Next Page':\n",
    "                next_page.click()\n",
    "                time.sleep(2)\n",
    "        except NoSuchElementException:\n",
    "            pass"
   ]
  },
  {
   "cell_type": "code",
   "execution_count": 34,
   "id": "7a04e540",
   "metadata": {},
   "outputs": [
    {
     "name": "stdout",
     "output_type": "stream",
     "text": [
      "324532 335475\n"
     ]
    }
   ],
   "source": [
    "print(len(Review_Bag),len(Ratings_Bag))"
   ]
  },
  {
   "cell_type": "code",
   "execution_count": 35,
   "id": "2e4113a1",
   "metadata": {},
   "outputs": [
    {
     "data": {
      "text/html": [
       "<div>\n",
       "<style scoped>\n",
       "    .dataframe tbody tr th:only-of-type {\n",
       "        vertical-align: middle;\n",
       "    }\n",
       "\n",
       "    .dataframe tbody tr th {\n",
       "        vertical-align: top;\n",
       "    }\n",
       "\n",
       "    .dataframe thead th {\n",
       "        text-align: right;\n",
       "    }\n",
       "</style>\n",
       "<table border=\"1\" class=\"dataframe\">\n",
       "  <thead>\n",
       "    <tr style=\"text-align: right;\">\n",
       "      <th></th>\n",
       "      <th>Product_Review</th>\n",
       "      <th>Ratings</th>\n",
       "    </tr>\n",
       "  </thead>\n",
       "  <tbody>\n",
       "    <tr>\n",
       "      <th>0</th>\n",
       "      <td>It's good for office!Laptop and some other stu...</td>\n",
       "      <td>4.0 o</td>\n",
       "    </tr>\n",
       "    <tr>\n",
       "      <th>1</th>\n",
       "      <td>Value for money,back padded ok an good stroge ...</td>\n",
       "      <td>4.0 o</td>\n",
       "    </tr>\n",
       "    <tr>\n",
       "      <th>2</th>\n",
       "      <td>Best</td>\n",
       "      <td>5.0 o</td>\n",
       "    </tr>\n",
       "    <tr>\n",
       "      <th>3</th>\n",
       "      <td>The bag quality is good but the charger connec...</td>\n",
       "      <td>4.0 o</td>\n",
       "    </tr>\n",
       "    <tr>\n",
       "      <th>4</th>\n",
       "      <td>It's awesome bag 👜, to carry comfortable. Suit...</td>\n",
       "      <td>4.0 o</td>\n",
       "    </tr>\n",
       "    <tr>\n",
       "      <th>...</th>\n",
       "      <td>...</td>\n",
       "      <td>...</td>\n",
       "    </tr>\n",
       "    <tr>\n",
       "      <th>19995</th>\n",
       "      <td>The quality is right Good to it's price, it's ...</td>\n",
       "      <td>4.0 o</td>\n",
       "    </tr>\n",
       "    <tr>\n",
       "      <th>19996</th>\n",
       "      <td>For small amount of stuffs...it is a very good...</td>\n",
       "      <td>4.0 o</td>\n",
       "    </tr>\n",
       "    <tr>\n",
       "      <th>19997</th>\n",
       "      <td>I loved the bag</td>\n",
       "      <td>4.0 o</td>\n",
       "    </tr>\n",
       "    <tr>\n",
       "      <th>19998</th>\n",
       "      <td>Bag is good but company need to work on this p...</td>\n",
       "      <td>4.0 o</td>\n",
       "    </tr>\n",
       "    <tr>\n",
       "      <th>19999</th>\n",
       "      <td>Its almost as expected but the size seems to b...</td>\n",
       "      <td>4.0 o</td>\n",
       "    </tr>\n",
       "  </tbody>\n",
       "</table>\n",
       "<p>20000 rows × 2 columns</p>\n",
       "</div>"
      ],
      "text/plain": [
       "                                          Product_Review Ratings\n",
       "0      It's good for office!Laptop and some other stu...   4.0 o\n",
       "1      Value for money,back padded ok an good stroge ...   4.0 o\n",
       "2                                                   Best   5.0 o\n",
       "3      The bag quality is good but the charger connec...   4.0 o\n",
       "4      It's awesome bag 👜, to carry comfortable. Suit...   4.0 o\n",
       "...                                                  ...     ...\n",
       "19995  The quality is right Good to it's price, it's ...   4.0 o\n",
       "19996  For small amount of stuffs...it is a very good...   4.0 o\n",
       "19997                                    I loved the bag   4.0 o\n",
       "19998  Bag is good but company need to work on this p...   4.0 o\n",
       "19999  Its almost as expected but the size seems to b...   4.0 o\n",
       "\n",
       "[20000 rows x 2 columns]"
      ]
     },
     "execution_count": 35,
     "metadata": {},
     "output_type": "execute_result"
    }
   ],
   "source": [
    "Bag=pd.DataFrame({'Product_Review':Review_Bag[:20000],'Ratings':Ratings_Bag[:20000]})\n",
    "Bag"
   ]
  },
  {
   "cell_type": "code",
   "execution_count": 38,
   "id": "5c4a824e",
   "metadata": {},
   "outputs": [
    {
     "data": {
      "text/html": [
       "<div>\n",
       "<style scoped>\n",
       "    .dataframe tbody tr th:only-of-type {\n",
       "        vertical-align: middle;\n",
       "    }\n",
       "\n",
       "    .dataframe tbody tr th {\n",
       "        vertical-align: top;\n",
       "    }\n",
       "\n",
       "    .dataframe thead th {\n",
       "        text-align: right;\n",
       "    }\n",
       "</style>\n",
       "<table border=\"1\" class=\"dataframe\">\n",
       "  <thead>\n",
       "    <tr style=\"text-align: right;\">\n",
       "      <th></th>\n",
       "      <th>Product_Review</th>\n",
       "      <th>Ratings</th>\n",
       "    </tr>\n",
       "  </thead>\n",
       "  <tbody>\n",
       "    <tr>\n",
       "      <th>0</th>\n",
       "      <td>It's good for office!Laptop and some other stu...</td>\n",
       "      <td>4.0 o</td>\n",
       "    </tr>\n",
       "    <tr>\n",
       "      <th>1</th>\n",
       "      <td>Value for money,back padded ok an good stroge ...</td>\n",
       "      <td>4.0 o</td>\n",
       "    </tr>\n",
       "    <tr>\n",
       "      <th>2</th>\n",
       "      <td>Best</td>\n",
       "      <td>5.0 o</td>\n",
       "    </tr>\n",
       "    <tr>\n",
       "      <th>3</th>\n",
       "      <td>The bag quality is good but the charger connec...</td>\n",
       "      <td>4.0 o</td>\n",
       "    </tr>\n",
       "    <tr>\n",
       "      <th>4</th>\n",
       "      <td>It's awesome bag 👜, to carry comfortable. Suit...</td>\n",
       "      <td>4.0 o</td>\n",
       "    </tr>\n",
       "    <tr>\n",
       "      <th>...</th>\n",
       "      <td>...</td>\n",
       "      <td>...</td>\n",
       "    </tr>\n",
       "    <tr>\n",
       "      <th>19995</th>\n",
       "      <td>The quality is right Good to it's price, it's ...</td>\n",
       "      <td>4.0 o</td>\n",
       "    </tr>\n",
       "    <tr>\n",
       "      <th>19996</th>\n",
       "      <td>For small amount of stuffs...it is a very good...</td>\n",
       "      <td>4.0 o</td>\n",
       "    </tr>\n",
       "    <tr>\n",
       "      <th>19997</th>\n",
       "      <td>I loved the bag</td>\n",
       "      <td>4.0 o</td>\n",
       "    </tr>\n",
       "    <tr>\n",
       "      <th>19998</th>\n",
       "      <td>Bag is good but company need to work on this p...</td>\n",
       "      <td>4.0 o</td>\n",
       "    </tr>\n",
       "    <tr>\n",
       "      <th>19999</th>\n",
       "      <td>Its almost as expected but the size seems to b...</td>\n",
       "      <td>4.0 o</td>\n",
       "    </tr>\n",
       "  </tbody>\n",
       "</table>\n",
       "<p>20000 rows × 2 columns</p>\n",
       "</div>"
      ],
      "text/plain": [
       "                                          Product_Review Ratings\n",
       "0      It's good for office!Laptop and some other stu...   4.0 o\n",
       "1      Value for money,back padded ok an good stroge ...   4.0 o\n",
       "2                                                   Best   5.0 o\n",
       "3      The bag quality is good but the charger connec...   4.0 o\n",
       "4      It's awesome bag 👜, to carry comfortable. Suit...   4.0 o\n",
       "...                                                  ...     ...\n",
       "19995  The quality is right Good to it's price, it's ...   4.0 o\n",
       "19996  For small amount of stuffs...it is a very good...   4.0 o\n",
       "19997                                    I loved the bag   4.0 o\n",
       "19998  Bag is good but company need to work on this p...   4.0 o\n",
       "19999  Its almost as expected but the size seems to b...   4.0 o\n",
       "\n",
       "[20000 rows x 2 columns]"
      ]
     },
     "execution_count": 38,
     "metadata": {},
     "output_type": "execute_result"
    }
   ],
   "source": [
    "Amazon_Rating=Bag\n",
    "Amazon_Rating"
   ]
  },
  {
   "cell_type": "code",
   "execution_count": 40,
   "id": "efe6330e",
   "metadata": {},
   "outputs": [],
   "source": [
    "# Saving the data into a csv file\n",
    "ratings_data.to_csv('Amazon_Rating.csv')"
   ]
  },
  {
   "cell_type": "code",
   "execution_count": 37,
   "id": "1cb43cbc",
   "metadata": {},
   "outputs": [
    {
     "data": {
      "text/html": [
       "<div>\n",
       "<style scoped>\n",
       "    .dataframe tbody tr th:only-of-type {\n",
       "        vertical-align: middle;\n",
       "    }\n",
       "\n",
       "    .dataframe tbody tr th {\n",
       "        vertical-align: top;\n",
       "    }\n",
       "\n",
       "    .dataframe thead th {\n",
       "        text-align: right;\n",
       "    }\n",
       "</style>\n",
       "<table border=\"1\" class=\"dataframe\">\n",
       "  <thead>\n",
       "    <tr style=\"text-align: right;\">\n",
       "      <th></th>\n",
       "      <th>Product_Review</th>\n",
       "      <th>Ratings</th>\n",
       "    </tr>\n",
       "  </thead>\n",
       "  <tbody>\n",
       "    <tr>\n",
       "      <th>0</th>\n",
       "      <td>The product is good but the build quality is a...</td>\n",
       "      <td>4.0</td>\n",
       "    </tr>\n",
       "    <tr>\n",
       "      <th>1</th>\n",
       "      <td>love how its lightweight ..it doesnt feels lik...</td>\n",
       "      <td>4.0</td>\n",
       "    </tr>\n",
       "    <tr>\n",
       "      <th>2</th>\n",
       "      <td>Overall performance is really nice 👍. I recomm...</td>\n",
       "      <td>4.0</td>\n",
       "    </tr>\n",
       "    <tr>\n",
       "      <th>3</th>\n",
       "      <td>It is very tight on ears.</td>\n",
       "      <td>4.0</td>\n",
       "    </tr>\n",
       "    <tr>\n",
       "      <th>4</th>\n",
       "      <td>This head phone working well.bluetooth connect...</td>\n",
       "      <td>4.0</td>\n",
       "    </tr>\n",
       "    <tr>\n",
       "      <th>...</th>\n",
       "      <td>...</td>\n",
       "      <td>...</td>\n",
       "    </tr>\n",
       "    <tr>\n",
       "      <th>22445</th>\n",
       "      <td>Disclosure: I have been a Vivo fan and my las...</td>\n",
       "      <td>3.0 o</td>\n",
       "    </tr>\n",
       "    <tr>\n",
       "      <th>22446</th>\n",
       "      <td>I wish they had their own operating system. ev...</td>\n",
       "      <td>4.0 o</td>\n",
       "    </tr>\n",
       "    <tr>\n",
       "      <th>22447</th>\n",
       "      <td>I'm writing a review for the first time for an...</td>\n",
       "      <td>5.0 o</td>\n",
       "    </tr>\n",
       "    <tr>\n",
       "      <th>22448</th>\n",
       "      <td>Excellent product but price should be little l...</td>\n",
       "      <td>4.0 o</td>\n",
       "    </tr>\n",
       "    <tr>\n",
       "      <th>22449</th>\n",
       "      <td>Super</td>\n",
       "      <td>4.0 o</td>\n",
       "    </tr>\n",
       "  </tbody>\n",
       "</table>\n",
       "<p>22450 rows × 2 columns</p>\n",
       "</div>"
      ],
      "text/plain": [
       "                                          Product_Review Ratings\n",
       "0      The product is good but the build quality is a...    4.0 \n",
       "1      love how its lightweight ..it doesnt feels lik...    4.0 \n",
       "2      Overall performance is really nice 👍. I recomm...    4.0 \n",
       "3                              It is very tight on ears.    4.0 \n",
       "4      This head phone working well.bluetooth connect...    4.0 \n",
       "...                                                  ...     ...\n",
       "22445   Disclosure: I have been a Vivo fan and my las...   3.0 o\n",
       "22446  I wish they had their own operating system. ev...   4.0 o\n",
       "22447  I'm writing a review for the first time for an...   5.0 o\n",
       "22448  Excellent product but price should be little l...   4.0 o\n",
       "22449                                              Super   4.0 o\n",
       "\n",
       "[22450 rows x 2 columns]"
      ]
     },
     "execution_count": 37,
     "metadata": {},
     "output_type": "execute_result"
    }
   ],
   "source": [
    "ratings_data=Headphones.append([Phones],ignore_index=True)\n",
    "ratings_data"
   ]
  },
  {
   "cell_type": "code",
   "execution_count": 39,
   "id": "979ba27d",
   "metadata": {},
   "outputs": [],
   "source": [
    "# Saving the data into a csv file\n",
    "ratings_data.to_csv('Rating.csv')"
   ]
  },
  {
   "cell_type": "code",
   "execution_count": null,
   "id": "1ccd599d",
   "metadata": {},
   "outputs": [],
   "source": []
  }
 ],
 "metadata": {
  "kernelspec": {
   "display_name": "Python 3 (ipykernel)",
   "language": "python",
   "name": "python3"
  },
  "language_info": {
   "codemirror_mode": {
    "name": "ipython",
    "version": 3
   },
   "file_extension": ".py",
   "mimetype": "text/x-python",
   "name": "python",
   "nbconvert_exporter": "python",
   "pygments_lexer": "ipython3",
   "version": "3.9.12"
  }
 },
 "nbformat": 4,
 "nbformat_minor": 5
}
